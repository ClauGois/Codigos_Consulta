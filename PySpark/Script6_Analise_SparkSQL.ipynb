{
 "cells": [
  {
   "cell_type": "markdown",
   "id": "c0dd9150",
   "metadata": {},
   "source": [
    "## Carregando dados de um arquivo para um Dataframe\n",
    "\n",
    " * Vamos analisar dados sobre quilometragem em bikes na India, buscando realizar:\n",
    " \n",
    " 1. Entender as cidades que mais possuem quilômetros rodados\n",
    " 2. Enterder as cidades com as médias maiores  (ou a maior)\n",
    " 3. Entender as cidades com as máximas maiores (ou a maior)\n",
    " 4. Entender as cidades com as minimas menores (ou a maior)\n",
    " 5. Verificar qual cidade tem mais registros e analisá-los\n",
    "   - Analisar a média, máximo e mínimo desta cidade\n",
    "   - Analisar pelo campo que descreve as bikes\n",
    "   - Analisar se as bikes na maioria são de primeiro, segundo donos.\n",
    "   - Gerando gráficos sobre os dados\n",
    " \n",
    " "
   ]
  },
  {
   "cell_type": "code",
   "execution_count": 1,
   "id": "159f9d8c",
   "metadata": {},
   "outputs": [],
   "source": [
    "#importando sparksession\n",
    "from pyspark.sql import SparkSession\n",
    "\n",
    "#criando um objeto sparksession object e um appName \n",
    "sparkSession=SparkSession.builder.appName(\"bikes\").getOrCreate()"
   ]
  },
  {
   "cell_type": "code",
   "execution_count": 2,
   "id": "bbf21dd3",
   "metadata": {},
   "outputs": [],
   "source": [
    "# Fazendo a leitura do arquivo Bikes.csv\n",
    "bikes = sparkSession.read.option(\"header\", \"true\").csv(\"/Users/claud/Desktop/EngUd/pyspark/dados/Bikes.csv\")"
   ]
  },
  {
   "cell_type": "code",
   "execution_count": 3,
   "id": "3566d93f",
   "metadata": {},
   "outputs": [
    {
     "name": "stdout",
     "output_type": "stream",
     "text": [
      "+--------------------+--------+---------+----------+-----------+---+-----+-------------+\n",
      "|           bike_name|   price|     city|kms_driven|      owner|age|power|        brand|\n",
      "+--------------------+--------+---------+----------+-----------+---+-----+-------------+\n",
      "|TVS Star City Plu...| 35000.0|Ahmedabad|   17654.0|First Owner|3.0|110.0|          TVS|\n",
      "|Royal Enfield Cla...|119900.0|    Delhi|   11000.0|First Owner|4.0|350.0|Royal Enfield|\n",
      "|Triumph Daytona 675R|600000.0|    Delhi|     110.0|First Owner|8.0|675.0|      Triumph|\n",
      "|TVS Apache RTR 180cc| 65000.0|Bangalore|   16329.0|First Owner|4.0|180.0|          TVS|\n",
      "|Yamaha FZ S V 2.0...| 80000.0|Bangalore|   10000.0|First Owner|3.0|150.0|       Yamaha|\n",
      "+--------------------+--------+---------+----------+-----------+---+-----+-------------+\n",
      "only showing top 5 rows\n",
      "\n"
     ]
    }
   ],
   "source": [
    "bikes.show(5)"
   ]
  },
  {
   "cell_type": "code",
   "execution_count": 4,
   "id": "59651e3c",
   "metadata": {},
   "outputs": [
    {
     "name": "stdout",
     "output_type": "stream",
     "text": [
      "+--------------------+--------+---------+----------+------------+---+-----+-------------+\n",
      "|           bike_name|   price|     city|kms_driven|       owner|age|power|        brand|\n",
      "+--------------------+--------+---------+----------+------------+---+-----+-------------+\n",
      "|TVS Star City Plu...| 35000.0|Ahmedabad|   17654.0| First Owner|3.0|110.0|          TVS|\n",
      "|Royal Enfield Cla...|119900.0|    Delhi|   11000.0| First Owner|4.0|350.0|Royal Enfield|\n",
      "|Triumph Daytona 675R|600000.0|    Delhi|     110.0| First Owner|8.0|675.0|      Triumph|\n",
      "|TVS Apache RTR 180cc| 65000.0|Bangalore|   16329.0| First Owner|4.0|180.0|          TVS|\n",
      "|Yamaha FZ S V 2.0...| 80000.0|Bangalore|   10000.0| First Owner|3.0|150.0|       Yamaha|\n",
      "|    Yamaha FZs 150cc| 53499.0|    Delhi|   25000.0| First Owner|6.0|150.0|       Yamaha|\n",
      "|Honda CB Hornet 1...| 85000.0|    Delhi|    8200.0| First Owner|3.0|160.0|        Honda|\n",
      "|Hero Splendor Plu...| 45000.0|    Delhi|   12645.0| First Owner|3.0|100.0|         Hero|\n",
      "|Royal Enfield Thu...|145000.0|Bangalore|    9190.0| First Owner|3.0|350.0|Royal Enfield|\n",
      "|Royal Enfield Cla...| 88000.0|    Delhi|   19000.0|Second Owner|7.0|500.0|Royal Enfield|\n",
      "|Yamaha YZF-R15 2....| 72000.0|Bangalore|   20000.0| First Owner|7.0|150.0|       Yamaha|\n",
      "|   Yamaha FZ25 250cc| 95000.0|Bangalore|    9665.0| First Owner|4.0|250.0|       Yamaha|\n",
      "|  Bajaj Pulsar NS200| 78000.0|Bangalore|    9900.0| First Owner|4.0|200.0|        Bajaj|\n",
      "| Bajaj Discover 100M| 29499.0|    Delhi|   20000.0| First Owner|8.0|100.0|        Bajaj|\n",
      "| Bajaj Discover 125M| 29900.0|    Delhi|   20000.0| First Owner|7.0|125.0|        Bajaj|\n",
      "|Bajaj Pulsar NS20...| 90000.0|Bangalore|   11574.0| First Owner|3.0|200.0|        Bajaj|\n",
      "|Bajaj Pulsar RS20...|120000.0|Bangalore|   23000.0| First Owner|3.0|200.0|        Bajaj|\n",
      "|Suzuki Gixxer SF ...| 48000.0|   Mumbai|   24725.0| First Owner|5.0|150.0|       Suzuki|\n",
      "|  Benelli 302R 300CC|240000.0|   Mumbai|   15025.0|Second Owner|3.0|302.0|      Benelli|\n",
      "| Bajaj Discover 125M| 29900.0|    Delhi|   20000.0| First Owner|7.0|125.0|        Bajaj|\n",
      "+--------------------+--------+---------+----------+------------+---+-----+-------------+\n",
      "only showing top 20 rows\n",
      "\n"
     ]
    }
   ],
   "source": [
    "# Criando uma tabela temporária em memória com os dados e utilizando consulta SQL\n",
    "bikes.createOrReplaceTempView(\"tab_bikes\")\n",
    "sparkSession.sql(\"select * from tab_bikes\").show()"
   ]
  },
  {
   "cell_type": "code",
   "execution_count": null,
   "id": "828aa8f9",
   "metadata": {},
   "outputs": [],
   "source": [
    "# Selecionando dados para analisar a maior média de quilometros percorridos\n",
    "sparkSession.sql(\"select city, avg(kms_driven) as media_km from tab_bikes group by city order by media_km desc \").show(1)"
   ]
  },
  {
   "cell_type": "code",
   "execution_count": null,
   "id": "02232710",
   "metadata": {},
   "outputs": [],
   "source": [
    "# Selecionando dados para analisar a maior quilometragem atingida\n",
    "sparkSession.sql(\"select city, max(kms_driven) as maximo_km from tab_bikes group by city order by maximo_km desc\").show(1)"
   ]
  },
  {
   "cell_type": "code",
   "execution_count": null,
   "id": "31142e08",
   "metadata": {},
   "outputs": [],
   "source": [
    "# Selecionando dados para analisar a menor quilometragem atingida\n",
    "sparkSession.sql(\"select city, min(kms_driven) as minimo_km from tab_bikes group by city order by minimo_km asc\").show(1)"
   ]
  },
  {
   "cell_type": "code",
   "execution_count": null,
   "id": "956d05e6",
   "metadata": {},
   "outputs": [],
   "source": [
    "# # Selecionando dados para analisar a média de potencia das bicicletas e o total por cidade\n",
    "sparkSession.sql(\"select brand, avg(power) as media_potencia, count(*) as total from tab_bikes group by brand order by total desc\").show()"
   ]
  },
  {
   "cell_type": "code",
   "execution_count": null,
   "id": "22c51b0e",
   "metadata": {},
   "outputs": [],
   "source": [
    "# Selecionando dados para analisar a cidade de Bajaj que tem a maior quantidade de registros, colocando em um Dataframe\n",
    "bajaj=sparkSession.sql(\"select * from tab_bikes where brand='Bajaj'\")"
   ]
  },
  {
   "cell_type": "code",
   "execution_count": null,
   "id": "5ec00d71",
   "metadata": {},
   "outputs": [],
   "source": [
    "# Criando uma tabela temporária apenas com os dados de Bajaj\n",
    "bajaj.createOrReplaceTempView(\"tab_bikes2\")"
   ]
  },
  {
   "cell_type": "code",
   "execution_count": null,
   "id": "4c5f94b0",
   "metadata": {},
   "outputs": [],
   "source": [
    "# Identifiando o tipo de objeto\n",
    "type(bajaj)"
   ]
  },
  {
   "cell_type": "code",
   "execution_count": null,
   "id": "8a443e0e",
   "metadata": {},
   "outputs": [],
   "source": [
    "# Selecionando os dados da cidade de Bajaj\n",
    "sparkSession.sql(\"select count(*) from tab_bikes2\").show()"
   ]
  },
  {
   "cell_type": "code",
   "execution_count": null,
   "id": "f0fd3a73",
   "metadata": {},
   "outputs": [],
   "source": [
    "# Selecionando os dados da cidade de Bajaj, entendo o valor médio,máximo e mínimo \n",
    "sparkSession.sql(\"select avg(kms_driven) as media,max(kms_driven) as maximo,min(kms_driven) as minimo from tab_bikes\").show()"
   ]
  },
  {
   "cell_type": "code",
   "execution_count": null,
   "id": "67f5d097",
   "metadata": {},
   "outputs": [],
   "source": [
    "# Selecionando os dados da cidade de Bajaj, entendo o valor médio,máximo e mínimo por bike_name\n",
    "sparkSession.sql(\"select bike_name, avg(kms_driven) as media,max(kms_driven) as maximo,min(kms_driven) as minimo from tab_bikes group by bike_name order by 1 asc\").show(70)"
   ]
  },
  {
   "cell_type": "code",
   "execution_count": null,
   "id": "ebdaa09a",
   "metadata": {},
   "outputs": [],
   "source": [
    "# Selecionando os dados da cidade de Bajaj, entendendo como foram adquiridas as Bikes\n",
    "sparkSession.sql(\"select owner,count(*) as total from tab_bikes group by owner order by 2 desc\").show()"
   ]
  },
  {
   "cell_type": "code",
   "execution_count": null,
   "id": "bd8f49b5",
   "metadata": {},
   "outputs": [],
   "source": [
    "# Cria um Dataframe pandas para plotar os dados\n",
    "bajaj_df=sparkSession.sql(\"select owner,count(*) as total from tab_bikes group by owner order by 2 desc\")\n",
    "bajaj_pandas= bajaj_df.toPandas()"
   ]
  },
  {
   "cell_type": "code",
   "execution_count": null,
   "id": "0d2591a5",
   "metadata": {},
   "outputs": [],
   "source": [
    "# utiliza a biblioteca matplotlib para criar um gráfico de barras para entender como são adquiridas as Bikes\n",
    "import matplotlib.pyplot as plotar\n",
    "bajaj_pandas.plot(kind='bar',x='owner',y='total')\n",
    "plotar.title('Como foram adquiridas as Bikes')\n",
    "plotar.xlabel('Por uso')\n",
    "plotar.ylabel('Total proprietários')\n",
    "plotar.show()"
   ]
  },
  {
   "cell_type": "code",
   "execution_count": null,
   "id": "06c80932",
   "metadata": {},
   "outputs": [],
   "source": []
  }
 ],
 "metadata": {
  "kernelspec": {
   "display_name": "Python 3 (ipykernel)",
   "language": "python",
   "name": "python3"
  },
  "language_info": {
   "codemirror_mode": {
    "name": "ipython",
    "version": 3
   },
   "file_extension": ".py",
   "mimetype": "text/x-python",
   "name": "python",
   "nbconvert_exporter": "python",
   "pygments_lexer": "ipython3",
   "version": "3.9.7"
  }
 },
 "nbformat": 4,
 "nbformat_minor": 5
}
